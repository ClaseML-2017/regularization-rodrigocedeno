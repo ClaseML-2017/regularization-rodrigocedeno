{
 "cells": [
  {
   "cell_type": "code",
   "execution_count": 2,
   "metadata": {
    "collapsed": true
   },
   "outputs": [],
   "source": [
    "import pandas as pd\n",
    "import numpy as np\n",
    "import csv\n",
    "from sklearn.model_selection import train_test_split\n",
    "from sklearn.linear_model import LinearRegression\n",
    "import matplotlib.pyplot as plt\n",
    "from sklearn import preprocessing\n",
    "%matplotlib inline"
   ]
  },
  {
   "cell_type": "code",
   "execution_count": 3,
   "metadata": {},
   "outputs": [],
   "source": [
    "df = pd.read_csv(\"regLin.csv\")\n",
    "#https://math.stackexchange.com/questions/982501/step-by-step-lms-for-learning-a-linear-function"
   ]
  },
  {
   "cell_type": "code",
   "execution_count": 5,
   "metadata": {},
   "outputs": [],
   "source": [
    "X_train, X_test, Y_train, Y_test = train_test_split(df[df.columns[0:-1]], df[[df.columns[-1]]], train_size = 0.75)"
   ]
  },
  {
   "cell_type": "markdown",
   "metadata": {},
   "source": [
    "## Aqui pondria la estandarizacion de los datos con el standard scaler"
   ]
  },
  {
   "cell_type": "code",
   "execution_count": 6,
   "metadata": {
    "collapsed": true
   },
   "outputs": [],
   "source": [
    "scale_X=preprocessing.StandardScaler()\n",
    "scale_y=preprocessing.StandardScaler()\n",
    "scale_X.fit(X_train)\n",
    "scale_y.fit(Y_train)\n",
    "X_train=scale_X.transform(X_train)\n",
    "Y_train=scale_y.transform(Y_train)\n",
    "X_test=scale_X.transform(X_test)\n",
    "Y_test=scale_y.transform(Y_test)"
   ]
  },
  {
   "cell_type": "code",
   "execution_count": 7,
   "metadata": {
    "collapsed": true
   },
   "outputs": [],
   "source": [
    "def salida(x,w):\n",
    "   # suma=0.0\n",
    "   # for i in range(len(x)):\n",
    "   #     suma= suma + x[i]*w[i+1]\n",
    "   # return suma + w[0]\n",
    "    return x.dot(w[1:])+ w[0]"
   ]
  },
  {
   "cell_type": "code",
   "execution_count": 36,
   "metadata": {},
   "outputs": [],
   "source": [
    "def entrena(X,y,w,lam=0.1):\n",
    "    nu=0.001\n",
    "    for i in range(len(X)):\n",
    "        error=y[i]-salida(X[i],w)\n",
    "        w[0]=w[0]+nu*error\n",
    "        for j in range(1,len(w)):\n",
    "            w[j]=w[j]+nu*error*X[i][j-1]-lam*w[j]\n",
    "    return w\n",
    "        \n",
    "    "
   ]
  },
  {
   "cell_type": "code",
   "execution_count": 37,
   "metadata": {
    "collapsed": true
   },
   "outputs": [],
   "source": [
    "Wi = np.ones(1+len(X_train[0]))\n",
    "for i in range(100):\n",
    "    Wi=entrena(X_train,Y_train,Wi)"
   ]
  },
  {
   "cell_type": "code",
   "execution_count": 38,
   "metadata": {},
   "outputs": [
    {
     "data": {
      "text/plain": [
       "array([ -3.92434859e-05,   9.74450447e-01])"
      ]
     },
     "execution_count": 38,
     "metadata": {},
     "output_type": "execute_result"
    }
   ],
   "source": [
    "Wi"
   ]
  },
  {
   "cell_type": "code",
   "execution_count": 39,
   "metadata": {},
   "outputs": [
    {
     "name": "stdout",
     "output_type": "stream",
     "text": [
      "[  5.38380297e-17] [[ 0.97364824]]\n"
     ]
    }
   ],
   "source": [
    "from sklearn.linear_model import LinearRegression\n",
    "modelo=LinearRegression()\n",
    "modelo.fit(X_train,Y_train)\n",
    "print modelo.intercept_, modelo.coef_"
   ]
  },
  {
   "cell_type": "code",
   "execution_count": null,
   "metadata": {
    "collapsed": true
   },
   "outputs": [],
   "source": []
  }
 ],
 "metadata": {
  "kernelspec": {
   "display_name": "Python 2",
   "language": "python",
   "name": "python2"
  },
  "language_info": {
   "codemirror_mode": {
    "name": "ipython",
    "version": 2
   },
   "file_extension": ".py",
   "mimetype": "text/x-python",
   "name": "python",
   "nbconvert_exporter": "python",
   "pygments_lexer": "ipython2",
   "version": "2.7.13"
  }
 },
 "nbformat": 4,
 "nbformat_minor": 2
}
